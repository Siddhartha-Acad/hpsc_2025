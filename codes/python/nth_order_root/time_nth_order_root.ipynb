{
 "cells": [
  {
   "cell_type": "markdown",
   "id": "7df72530",
   "metadata": {},
   "source": [
    "# Importing the nth_order_root.py"
   ]
  },
  {
   "cell_type": "code",
   "execution_count": 1,
   "id": "bec5bf2c",
   "metadata": {},
   "outputs": [],
   "source": [
    "import nth_order_root"
   ]
  },
  {
   "cell_type": "code",
   "execution_count": 2,
   "id": "774a37ea",
   "metadata": {},
   "outputs": [
    {
     "data": {
      "text/plain": [
       "2.6591479484724942"
      ]
     },
     "execution_count": 2,
     "metadata": {},
     "output_type": "execute_result"
    }
   ],
   "source": [
    "nth_order_root.nth_root(n=4, x=50)"
   ]
  },
  {
   "cell_type": "code",
   "execution_count": 4,
   "id": "c3811bc6",
   "metadata": {},
   "outputs": [
    {
     "name": "stdout",
     "output_type": "stream",
     "text": [
      "iteration 0: s_i = 7.512500000000000, rel_err = 2.48750e-01\n",
      "iteration 1: s_i = 5.663856973940321, rel_err = 2.46076e-01\n",
      "iteration 2: s_i = 4.316690313241460, rel_err = 2.37853e-01\n",
      "iteration 3: s_i = 3.392919996492541, rel_err = 2.14000e-01\n",
      "iteration 4: s_i = 2.864718865196030, rel_err = 1.55677e-01\n",
      "iteration 5: s_i = 2.680235878270486, rel_err = 6.43983e-02\n",
      "iteration 6: s_i = 2.659395523390867, rel_err = 7.77557e-03\n",
      "iteration 7: s_i = 2.659147983042119, rel_err = 9.30814e-05\n",
      "iteration 8: s_i = 2.659147948472495, rel_err = 1.30003e-08\n",
      "iteration 9: s_i = 2.659147948472494, rel_err = 3.34009e-16\n",
      "correct value: 2.659147948472494, my_estimation : 2.659147948472494\n",
      "\n"
     ]
    },
    {
     "data": {
      "text/plain": [
       "2.6591479484724942"
      ]
     },
     "execution_count": 4,
     "metadata": {},
     "output_type": "execute_result"
    }
   ],
   "source": [
    "nth_order_root.nth_root(n=4, x=50, debug=True)"
   ]
  },
  {
   "cell_type": "markdown",
   "id": "a7d3d037",
   "metadata": {},
   "source": [
    "# Timing the function for a single number"
   ]
  },
  {
   "cell_type": "code",
   "execution_count": 5,
   "id": "d6c5f6e3",
   "metadata": {},
   "outputs": [
    {
     "name": "stdout",
     "output_type": "stream",
     "text": [
      "3.42 µs ± 18.9 ns per loop (mean ± std. dev. of 7 runs, 100,000 loops each)\n"
     ]
    }
   ],
   "source": [
    "timeit nth_order_root.nth_root(3, 729)"
   ]
  },
  {
   "cell_type": "code",
   "execution_count": 9,
   "id": "7bd2ab77",
   "metadata": {},
   "outputs": [],
   "source": [
    "from numpy import power, linspace"
   ]
  },
  {
   "cell_type": "code",
   "execution_count": 7,
   "id": "1cf128ff",
   "metadata": {},
   "outputs": [
    {
     "name": "stdout",
     "output_type": "stream",
     "text": [
      "1.28 µs ± 7.59 ns per loop (mean ± std. dev. of 7 runs, 1,000,000 loops each)\n"
     ]
    }
   ],
   "source": [
    "timeit power(729, 1/3)"
   ]
  },
  {
   "cell_type": "code",
   "execution_count": 8,
   "id": "2501adf4",
   "metadata": {},
   "outputs": [
    {
     "name": "stdout",
     "output_type": "stream",
     "text": [
      "1.28 µs ± 7.85 ns per loop (mean ± std. dev. of 7 runs, 1,000,000 loops each)\n"
     ]
    }
   ],
   "source": [
    "%timeit power(729, 1/3)"
   ]
  },
  {
   "cell_type": "markdown",
   "id": "be092ffc",
   "metadata": {},
   "source": [
    "# Timing the function for many numbers from array"
   ]
  },
  {
   "cell_type": "code",
   "execution_count": 10,
   "id": "851440fb",
   "metadata": {},
   "outputs": [],
   "source": [
    "x = linspace(0, 1000, 201)"
   ]
  },
  {
   "cell_type": "code",
   "execution_count": 18,
   "id": "95a380c1",
   "metadata": {},
   "outputs": [
    {
     "name": "stdout",
     "output_type": "stream",
     "text": [
      "1.08 ms ± 5.14 µs per loop (mean ± std. dev. of 7 runs, 1,000 loops each)\n"
     ]
    }
   ],
   "source": [
    "%%timeit\n",
    "for num in x:\n",
    "#     print(f'cube root of {num}: {nth_order_root.nth_root(3, num)}')\n",
    "    nth_order_root.nth_root(3, num)"
   ]
  },
  {
   "cell_type": "code",
   "execution_count": 19,
   "id": "6d2edfb4",
   "metadata": {},
   "outputs": [
    {
     "name": "stdout",
     "output_type": "stream",
     "text": [
      "7.81 µs ± 45.1 ns per loop (mean ± std. dev. of 7 runs, 100,000 loops each)\n"
     ]
    }
   ],
   "source": [
    "%timeit power(x, 1/3)"
   ]
  },
  {
   "cell_type": "code",
   "execution_count": null,
   "id": "109c3ef7",
   "metadata": {},
   "outputs": [],
   "source": []
  }
 ],
 "metadata": {
  "kernelspec": {
   "display_name": "Python 3 (ipykernel)",
   "language": "python",
   "name": "python3"
  },
  "language_info": {
   "codemirror_mode": {
    "name": "ipython",
    "version": 3
   },
   "file_extension": ".py",
   "mimetype": "text/x-python",
   "name": "python",
   "nbconvert_exporter": "python",
   "pygments_lexer": "ipython3",
   "version": "3.11.1"
  }
 },
 "nbformat": 4,
 "nbformat_minor": 5
}
